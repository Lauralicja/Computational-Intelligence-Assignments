{
 "cells": [
  {
   "cell_type": "markdown",
   "metadata": {},
   "source": [
    "# CIFAR-10 classification"
   ]
  },
  {
   "cell_type": "code",
   "execution_count": 1,
   "metadata": {},
   "outputs": [
    {
     "name": "stderr",
     "output_type": "stream",
     "text": [
      "Using TensorFlow backend.\n"
     ]
    }
   ],
   "source": [
    "from __future__ import print_function\n",
    "import keras\n",
    "from keras.datasets import cifar10\n",
    "from keras.preprocessing.image import ImageDataGenerator\n",
    "from keras.models import Sequential\n",
    "from keras.layers import Dense, Dropout, Activation, Flatten\n",
    "from keras.layers import Conv2D, MaxPooling2D\n",
    "from keras.layers import LeakyReLU\n",
    "from keras import backend as K\n",
    "from keras.callbacks import ReduceLROnPlateau\n",
    "import numpy as np\n",
    "import math\n",
    "from math import ceil\n",
    "import matplotlib.pyplot as plt \n",
    "import os\n",
    "import pandas as pd\n",
    "from sklearn import metrics\n",
    "from sklearn.metrics import classification_report\n",
    "import seaborn as sns\n",
    "import tensorflow as tf \n",
    "\n",
    "#x_train = x_train.astype('float32')\n",
    "#x_test = x_test.astype('float32')\n",
    "#x_train /= 255\n",
    "#x_test /= 255"
   ]
  },
  {
   "cell_type": "markdown",
   "metadata": {},
   "source": [
    "# Data reading"
   ]
  },
  {
   "cell_type": "markdown",
   "metadata": {},
   "source": [
    "## Defining constants"
   ]
  },
  {
   "cell_type": "code",
   "execution_count": 2,
   "metadata": {},
   "outputs": [],
   "source": [
    "LABELS= ['airplane', 'automobile', 'bird', 'cat', 'deer', 'dog', 'frog', 'horse', 'ship', 'truck']\n",
    "batch_size = 100\n",
    "num_classes = 10\n",
    "epochs = 50\n",
    "data_augmentation = True\n",
    "num_predictions = 20\n",
    "save_dir = os.path.join(os.getcwd(), 'saved_models')\n",
    "model_name = 'keras_cifar10_trained_model.h5'"
   ]
  },
  {
   "cell_type": "markdown",
   "metadata": {},
   "source": [
    "## Reading the data"
   ]
  },
  {
   "cell_type": "code",
   "execution_count": 3,
   "metadata": {},
   "outputs": [],
   "source": [
    "(x_train, y_train), (x_test, y_test) = cifar10.load_data()\n",
    "\n",
    "y_train = keras.utils.to_categorical(y_train, num_classes)\n",
    "y_test = keras.utils.to_categorical(y_test, num_classes)"
   ]
  },
  {
   "cell_type": "markdown",
   "metadata": {},
   "source": [
    "## Creating a model"
   ]
  },
  {
   "cell_type": "code",
   "execution_count": 5,
   "metadata": {},
   "outputs": [
    {
     "name": "stdout",
     "output_type": "stream",
     "text": [
      "Model: \"sequential_2\"\n",
      "_________________________________________________________________\n",
      "Layer (type)                 Output Shape              Param #   \n",
      "=================================================================\n",
      "conv2d_5 (Conv2D)            (None, 32, 32, 32)        896       \n",
      "_________________________________________________________________\n",
      "leaky_re_lu_3 (LeakyReLU)    (None, 32, 32, 32)        0         \n",
      "_________________________________________________________________\n",
      "conv2d_6 (Conv2D)            (None, 30, 30, 32)        9248      \n",
      "_________________________________________________________________\n",
      "max_pooling2d_3 (MaxPooling2 (None, 15, 15, 32)        0         \n",
      "_________________________________________________________________\n",
      "dropout_4 (Dropout)          (None, 15, 15, 32)        0         \n",
      "_________________________________________________________________\n",
      "conv2d_7 (Conv2D)            (None, 15, 15, 64)        18496     \n",
      "_________________________________________________________________\n",
      "leaky_re_lu_4 (LeakyReLU)    (None, 15, 15, 64)        0         \n",
      "_________________________________________________________________\n",
      "conv2d_8 (Conv2D)            (None, 13, 13, 64)        36928     \n",
      "_________________________________________________________________\n",
      "max_pooling2d_4 (MaxPooling2 (None, 6, 6, 64)          0         \n",
      "_________________________________________________________________\n",
      "dropout_5 (Dropout)          (None, 6, 6, 64)          0         \n",
      "_________________________________________________________________\n",
      "flatten_2 (Flatten)          (None, 2304)              0         \n",
      "_________________________________________________________________\n",
      "dense_3 (Dense)              (None, 512)               1180160   \n",
      "_________________________________________________________________\n",
      "dropout_6 (Dropout)          (None, 512)               0         \n",
      "_________________________________________________________________\n",
      "dense_4 (Dense)              (None, 10)                5130      \n",
      "_________________________________________________________________\n",
      "activation_2 (Activation)    (None, 10)                0         \n",
      "=================================================================\n",
      "Total params: 1,250,858\n",
      "Trainable params: 1,250,858\n",
      "Non-trainable params: 0\n",
      "_________________________________________________________________\n"
     ]
    }
   ],
   "source": [
    "model = Sequential()\n",
    "model.add(Conv2D(32, (3, 3), padding='same',\n",
    "                 input_shape=x_train.shape[1:]))\n",
    "model.add(LeakyReLU(alpha=0.3))\n",
    "model.add(Conv2D(32, (3, 3)))\n",
    "model.add(MaxPooling2D(pool_size=(2, 2)))\n",
    "model.add(Dropout(0.25))\n",
    "\n",
    "model.add(Conv2D(64, (3, 3), padding='same'))\n",
    "model.add(LeakyReLU(alpha=0.3))\n",
    "model.add(Conv2D(64, (3, 3)))\n",
    "model.add(MaxPooling2D(pool_size=(2, 2)))\n",
    "model.add(Dropout(0.25))\n",
    "\n",
    "model.add(Flatten())\n",
    "model.add(Dense(512))\n",
    "model.add(Dropout(0.5))\n",
    "model.add(Dense(num_classes))\n",
    "model.add(Activation('softmax'))\n",
    "\n",
    "model.summary()"
   ]
  },
  {
   "cell_type": "markdown",
   "metadata": {},
   "source": [
    "## Setting the optimizer and compilation of a model"
   ]
  },
  {
   "cell_type": "code",
   "execution_count": 6,
   "metadata": {},
   "outputs": [],
   "source": [
    "opt = keras.optimizers.RMSprop(learning_rate=0.0001, decay=1e-6)\n",
    "\n",
    "model.compile(loss='categorical_crossentropy',\n",
    "              optimizer=opt,\n",
    "              metrics=['accuracy'])"
   ]
  },
  {
   "cell_type": "code",
   "execution_count": 7,
   "metadata": {},
   "outputs": [
    {
     "name": "stdout",
     "output_type": "stream",
     "text": [
      "Using real-time data augmentation.\n",
      "Epoch 1/50\n",
      "500/500 [==============================] - 116s 233ms/step - loss: 10.8014 - accuracy: 0.2391 - val_loss: 2.1464 - val_accuracy: 0.3835\n",
      "Epoch 2/50\n",
      "500/500 [==============================] - 116s 232ms/step - loss: 2.5042 - accuracy: 0.3121 - val_loss: 1.5933 - val_accuracy: 0.4502\n",
      "Epoch 3/50\n",
      "500/500 [==============================] - 115s 229ms/step - loss: 1.9705 - accuracy: 0.3584 - val_loss: 1.5638 - val_accuracy: 0.4599\n",
      "Epoch 4/50\n",
      "500/500 [==============================] - 113s 226ms/step - loss: 1.7692 - accuracy: 0.3999 - val_loss: 1.4156 - val_accuracy: 0.5100\n",
      "Epoch 5/50\n",
      "500/500 [==============================] - 114s 227ms/step - loss: 1.6544 - accuracy: 0.4341 - val_loss: 1.4269 - val_accuracy: 0.5062\n",
      "Epoch 6/50\n",
      "500/500 [==============================] - 115s 230ms/step - loss: 1.5801 - accuracy: 0.4551 - val_loss: 1.3352 - val_accuracy: 0.5427\n",
      "Epoch 7/50\n",
      "500/500 [==============================] - 115s 229ms/step - loss: 1.5196 - accuracy: 0.4763 - val_loss: 1.3152 - val_accuracy: 0.5421\n",
      "Epoch 8/50\n",
      "500/500 [==============================] - 114s 228ms/step - loss: 1.4823 - accuracy: 0.4896 - val_loss: 1.1984 - val_accuracy: 0.5832\n",
      "Epoch 9/50\n",
      "500/500 [==============================] - 114s 229ms/step - loss: 1.4450 - accuracy: 0.5027 - val_loss: 1.3043 - val_accuracy: 0.5543\n",
      "Epoch 10/50\n",
      "500/500 [==============================] - 114s 229ms/step - loss: 1.4096 - accuracy: 0.5121 - val_loss: 1.1664 - val_accuracy: 0.5882\n",
      "Epoch 11/50\n",
      "500/500 [==============================] - 114s 228ms/step - loss: 1.3875 - accuracy: 0.5198 - val_loss: 1.1611 - val_accuracy: 0.6010\n",
      "Epoch 12/50\n",
      "500/500 [==============================] - 113s 227ms/step - loss: 1.3531 - accuracy: 0.5328 - val_loss: 1.3935 - val_accuracy: 0.5302\n",
      "Epoch 13/50\n",
      "500/500 [==============================] - 114s 227ms/step - loss: 1.3300 - accuracy: 0.5385 - val_loss: 1.1849 - val_accuracy: 0.5861\n",
      "Epoch 14/50\n",
      "500/500 [==============================] - 113s 227ms/step - loss: 1.3058 - accuracy: 0.5477 - val_loss: 1.2770 - val_accuracy: 0.5555\n",
      "Epoch 15/50\n",
      "500/500 [==============================] - 113s 227ms/step - loss: 1.2808 - accuracy: 0.5555 - val_loss: 1.1425 - val_accuracy: 0.6065\n",
      "Epoch 16/50\n",
      "500/500 [==============================] - 114s 228ms/step - loss: 1.2636 - accuracy: 0.5645 - val_loss: 1.0801 - val_accuracy: 0.6266\n",
      "Epoch 17/50\n",
      "500/500 [==============================] - 113s 226ms/step - loss: 1.2385 - accuracy: 0.5716 - val_loss: 1.1923 - val_accuracy: 0.5905\n",
      "Epoch 18/50\n",
      "500/500 [==============================] - 113s 227ms/step - loss: 1.2204 - accuracy: 0.5758 - val_loss: 1.1419 - val_accuracy: 0.6056\n",
      "Epoch 19/50\n",
      "500/500 [==============================] - 114s 227ms/step - loss: 1.2028 - accuracy: 0.5824 - val_loss: 1.0701 - val_accuracy: 0.6313\n",
      "Epoch 20/50\n",
      "500/500 [==============================] - 113s 227ms/step - loss: 1.1798 - accuracy: 0.5926 - val_loss: 1.0303 - val_accuracy: 0.6409\n",
      "Epoch 21/50\n",
      "500/500 [==============================] - 116s 231ms/step - loss: 1.1593 - accuracy: 0.5965 - val_loss: 1.0726 - val_accuracy: 0.6303\n",
      "Epoch 22/50\n",
      "500/500 [==============================] - 114s 228ms/step - loss: 1.1515 - accuracy: 0.6001 - val_loss: 1.1306 - val_accuracy: 0.6085\n",
      "Epoch 23/50\n",
      "500/500 [==============================] - 117s 234ms/step - loss: 1.1301 - accuracy: 0.6098 - val_loss: 1.1444 - val_accuracy: 0.6143\n",
      "Epoch 24/50\n",
      "500/500 [==============================] - 118s 237ms/step - loss: 1.1129 - accuracy: 0.6137 - val_loss: 0.9733 - val_accuracy: 0.6645\n",
      "Epoch 25/50\n",
      "500/500 [==============================] - 112s 225ms/step - loss: 1.1064 - accuracy: 0.6183 - val_loss: 1.0078 - val_accuracy: 0.6501\n",
      "Epoch 26/50\n",
      "500/500 [==============================] - 114s 228ms/step - loss: 1.0895 - accuracy: 0.6216 - val_loss: 0.9480 - val_accuracy: 0.6742\n",
      "Epoch 27/50\n",
      "500/500 [==============================] - 114s 228ms/step - loss: 1.0737 - accuracy: 0.6305 - val_loss: 1.0522 - val_accuracy: 0.6345\n",
      "Epoch 28/50\n",
      "500/500 [==============================] - 113s 227ms/step - loss: 1.0580 - accuracy: 0.6338 - val_loss: 0.9850 - val_accuracy: 0.6602\n",
      "Epoch 29/50\n",
      "500/500 [==============================] - 114s 229ms/step - loss: 1.0505 - accuracy: 0.6383 - val_loss: 0.9002 - val_accuracy: 0.6865\n",
      "Epoch 30/50\n",
      "500/500 [==============================] - 113s 227ms/step - loss: 1.0335 - accuracy: 0.6418 - val_loss: 0.9855 - val_accuracy: 0.6645\n",
      "Epoch 31/50\n",
      "500/500 [==============================] - 114s 228ms/step - loss: 1.0249 - accuracy: 0.6462 - val_loss: 1.1379 - val_accuracy: 0.6158\n",
      "Epoch 32/50\n",
      "500/500 [==============================] - 113s 226ms/step - loss: 1.0155 - accuracy: 0.6496 - val_loss: 0.9330 - val_accuracy: 0.6843\n",
      "Epoch 33/50\n",
      "500/500 [==============================] - 113s 227ms/step - loss: 1.0056 - accuracy: 0.6526 - val_loss: 0.8503 - val_accuracy: 0.7014\n",
      "Epoch 34/50\n",
      "500/500 [==============================] - 112s 225ms/step - loss: 0.9975 - accuracy: 0.6545 - val_loss: 0.9797 - val_accuracy: 0.6626\n",
      "Epoch 35/50\n",
      "500/500 [==============================] - 113s 227ms/step - loss: 0.9960 - accuracy: 0.6570 - val_loss: 0.8765 - val_accuracy: 0.7005\n",
      "Epoch 36/50\n",
      "500/500 [==============================] - 112s 224ms/step - loss: 0.9816 - accuracy: 0.6628 - val_loss: 1.0153 - val_accuracy: 0.6644\n",
      "Epoch 37/50\n",
      "500/500 [==============================] - 113s 227ms/step - loss: 0.9777 - accuracy: 0.6633 - val_loss: 0.9544 - val_accuracy: 0.6684\n",
      "Epoch 38/50\n",
      "500/500 [==============================] - 113s 226ms/step - loss: 0.9671 - accuracy: 0.6666 - val_loss: 0.9236 - val_accuracy: 0.6791\n",
      "Epoch 39/50\n",
      "500/500 [==============================] - 112s 224ms/step - loss: 0.9601 - accuracy: 0.6704 - val_loss: 0.8870 - val_accuracy: 0.6998\n",
      "Epoch 40/50\n",
      "500/500 [==============================] - 113s 226ms/step - loss: 0.9497 - accuracy: 0.6725 - val_loss: 0.9527 - val_accuracy: 0.6741\n",
      "Epoch 41/50\n",
      "500/500 [==============================] - 114s 227ms/step - loss: 0.9429 - accuracy: 0.6748 - val_loss: 0.8401 - val_accuracy: 0.7136\n",
      "Epoch 42/50\n",
      "500/500 [==============================] - 113s 227ms/step - loss: 0.9435 - accuracy: 0.6744 - val_loss: 0.8608 - val_accuracy: 0.7103\n",
      "Epoch 43/50\n",
      "500/500 [==============================] - 114s 227ms/step - loss: 0.9370 - accuracy: 0.6777 - val_loss: 0.8353 - val_accuracy: 0.7134\n",
      "Epoch 44/50\n",
      "500/500 [==============================] - 114s 228ms/step - loss: 0.9259 - accuracy: 0.6824 - val_loss: 0.8590 - val_accuracy: 0.7061\n",
      "Epoch 45/50\n",
      "500/500 [==============================] - 114s 228ms/step - loss: 0.9237 - accuracy: 0.6827 - val_loss: 0.8146 - val_accuracy: 0.7164\n",
      "Epoch 46/50\n",
      "500/500 [==============================] - 113s 227ms/step - loss: 0.9134 - accuracy: 0.6856 - val_loss: 0.9004 - val_accuracy: 0.6929\n",
      "Epoch 47/50\n",
      "500/500 [==============================] - 113s 226ms/step - loss: 0.9102 - accuracy: 0.6883 - val_loss: 0.8903 - val_accuracy: 0.7147\n",
      "Epoch 48/50\n",
      "500/500 [==============================] - 112s 224ms/step - loss: 0.9012 - accuracy: 0.6910 - val_loss: 0.9096 - val_accuracy: 0.6988\n",
      "Epoch 49/50\n",
      "500/500 [==============================] - 113s 225ms/step - loss: 0.9025 - accuracy: 0.6892 - val_loss: 0.8227 - val_accuracy: 0.7206\n",
      "Epoch 50/50\n",
      "500/500 [==============================] - 113s 227ms/step - loss: 0.8993 - accuracy: 0.6937 - val_loss: 0.8659 - val_accuracy: 0.7040\n",
      "Saved trained model at C:\\IMPORTANTDIRECC\\zajecia\\MGR\\S1\\CI\\Assignment 3\\saved_models\\keras_cifar10_trained_model.h5 \n",
      "10000/10000 [==============================] - 5s 456us/step\n",
      "Test loss: 0.8659281525611877\n",
      "Test accuracy: 0.7039999961853027\n"
     ]
    }
   ],
   "source": [
    "if not data_augmentation:\n",
    "    print('Not using data augmentation.')\n",
    "    model.fit(x_train, y_train,\n",
    "              batch_size=batch_size,\n",
    "              epochs=epochs,\n",
    "              validation_data=(x_test, y_test),\n",
    "              shuffle=True)\n",
    "else:\n",
    "    print('Using real-time data augmentation.')\n",
    "    datagen = ImageDataGenerator(\n",
    "        featurewise_center=False, \n",
    "        samplewise_center=False,\n",
    "        featurewise_std_normalization=False,\n",
    "        samplewise_std_normalization=False,\n",
    "        zca_whitening=False,\n",
    "        zca_epsilon=1e-06,\n",
    "        rotation_range=0,\n",
    "        width_shift_range=0.1,\n",
    "        height_shift_range=0.1,\n",
    "        shear_range=0.,\n",
    "        zoom_range=0.,\n",
    "        channel_shift_range=0.,\n",
    "        fill_mode='nearest',\n",
    "        cval=0., \n",
    "        horizontal_flip=True,\n",
    "        vertical_flip=False, \n",
    "        rescale=None,\n",
    "        preprocessing_function=None,\n",
    "        data_format=None,\n",
    "        validation_split=0.0)\n",
    "\n",
    "    datagen.fit(x_train)\n",
    "\n",
    "    model.fit_generator(datagen.flow(x_train, y_train, batch_size=batch_size),\n",
    "                        epochs=epochs,\n",
    "                        validation_data=(x_test, y_test),\n",
    "                        workers=4)\n",
    "\n",
    "if not os.path.isdir(save_dir):\n",
    "    os.makedirs(save_dir)\n",
    "model_path = os.path.join(save_dir, model_name)\n",
    "model.save(model_path)\n",
    "print('Saved trained model at %s ' % model_path)\n",
    "\n",
    "scores = model.evaluate(x_test, y_test, verbose=1)\n",
    "print('Test loss:', scores[0])\n",
    "print('Test accuracy:', scores[1])"
   ]
  },
  {
   "cell_type": "markdown",
   "metadata": {},
   "source": [
    "# Results"
   ]
  },
  {
   "cell_type": "code",
   "execution_count": 8,
   "metadata": {},
   "outputs": [],
   "source": [
    "def show_confusion_matrix(validations, predictions, num_classes):\n",
    "    matrix = metrics.confusion_matrix(validations, predictions)\n",
    "    plt.figure(figsize=(num_classes, num_classes))\n",
    "    hm = sns.heatmap(matrix,\n",
    "                cmap='coolwarm',\n",
    "                linecolor='white',\n",
    "                linewidths=1,\n",
    "                xticklabels=LABELS,\n",
    "                yticklabels=LABELS,\n",
    "                annot=True,\n",
    "                fmt='d')\n",
    "    plt.yticks(rotation = 0) \n",
    "    hm.invert_yaxis()\n",
    "    hm.set_ylim(0, len(matrix))\n",
    "    plt.title('Confusion Matrix')\n",
    "    plt.ylabel('True Label')\n",
    "    plt.xlabel('Predicted Label')\n",
    "    plt.show()"
   ]
  },
  {
   "cell_type": "code",
   "execution_count": 9,
   "metadata": {},
   "outputs": [
    {
     "data": {
      "image/png": "[encoded data removed]",
      "text/plain": [
       "<Figure size 720x720 with 2 Axes>"
      ]
     },
     "metadata": {
      "needs_background": "light"
     },
     "output_type": "display_data"
    },
    {
     "name": "stdout",
     "output_type": "stream",
     "text": [
      "              precision    recall  f1-score   support\n",
      "\n",
      "           0       0.85      0.60      0.70      1000\n",
      "           1       0.79      0.91      0.85      1000\n",
      "           2       0.67      0.49      0.57      1000\n",
      "           3       0.59      0.48      0.53      1000\n",
      "           4       0.65      0.72      0.68      1000\n",
      "           5       0.81      0.48      0.60      1000\n",
      "           6       0.52      0.95      0.67      1000\n",
      "           7       0.85      0.69      0.76      1000\n",
      "           8       0.75      0.86      0.80      1000\n",
      "           9       0.78      0.85      0.81      1000\n",
      "\n",
      "    accuracy                           0.70     10000\n",
      "   macro avg       0.73      0.70      0.70     10000\n",
      "weighted avg       0.73      0.70      0.70     10000\n",
      "\n"
     ]
    }
   ],
   "source": [
    "y_pred_test = model.predict(x_test)\n",
    "\n",
    "max_y_pred_test = np.argmax(y_pred_test, axis=1)\n",
    "max_y_test = np.argmax(y_test, axis=1)\n",
    "\n",
    "show_confusion_matrix(max_y_test, max_y_pred_test, num_classes)\n",
    "\n",
    "print(classification_report(max_y_test, max_y_pred_test))"
   ]
  }
 ],
 "metadata": {
  "kernelspec": {
   "display_name": "Python 3",
   "language": "python",
   "name": "python3"
  },
  "language_info": {
   "codemirror_mode": {
    "name": "ipython",
    "version": 3
   },
   "file_extension": ".py",
   "mimetype": "text/x-python",
   "name": "python",
   "nbconvert_exporter": "python",
   "pygments_lexer": "ipython3",
   "version": "3.8.2"
  }
 },
 "nbformat": 4,
 "nbformat_minor": 4
}
